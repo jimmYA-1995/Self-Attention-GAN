{
 "cells": [
  {
   "cell_type": "code",
   "execution_count": 1,
   "metadata": {},
   "outputs": [],
   "source": [
    "import os\n",
    "import tqdm\n",
    "import tensorflow as tf\n",
    "import tensorflow_datasets as tfds\n",
    "import pickle\n",
    "import numpy as np"
   ]
  },
  {
   "cell_type": "code",
   "execution_count": null,
   "metadata": {},
   "outputs": [],
   "source": [
    "dataset_name=\"celeb_a\""
   ]
  },
  {
   "cell_type": "code",
   "execution_count": 2,
   "metadata": {},
   "outputs": [],
   "source": [
    "data, info = tfds.load(dataset_name, with_info=True,\n",
    "                       in_memory=True, shuffle_files=True)\n",
    "num_records = info.splits['train'].num_examples\n",
    "num_classes = 1\n",
    "train_data, _ = data['train'], data['test']\n",
    "assert isinstance(train_data, tf.data.Dataset)"
   ]
  },
  {
   "cell_type": "code",
   "execution_count": 3,
   "metadata": {},
   "outputs": [
    {
     "data": {
      "text/plain": [
       "(0, 255, (218, 178, 3))"
      ]
     },
     "execution_count": 3,
     "metadata": {},
     "output_type": "execute_result"
    }
   ],
   "source": [
    "a = next(iter(train_data))['image'].numpy()\n",
    "a.min(), a.max(), a.shape, a.dtype"
   ]
  },
  {
   "cell_type": "code",
   "execution_count": null,
   "metadata": {},
   "outputs": [],
   "source": [
    "def _int64_feature(value):\n",
    "    return tf.train.Feature(int64_list=tf.train.Int64List(value=[value]))\n",
    "\n",
    "def _bytes_feature(value):\n",
    "    return tf.train.Feature(bytes_list=tf.train.BytesList(value=[value]))"
   ]
  },
  {
   "cell_type": "code",
   "execution_count": null,
   "metadata": {},
   "outputs": [],
   "source": [
    "out_root = \"/root/notebooks/data/celebA_64\"\n",
    "data_path = os.path.join(out_root, 'data.tfrecords')\n",
    "writer = tf.io.TFRecordWriter(data_path)\n",
    "\n",
    "cnt = 0\n",
    "for img in train_data:\n",
    "    cnt+=1\n",
    "    img_size = tf.constant((64, 64), dtype=tf.int32)\n",
    "    image = tf.image.resize(img['image'].numpy(), img_size)\n",
    "    image_raw = image.numpy().tostring()\n",
    "\n",
    "    label = tf.zeros(shape=(), dtype=tf.int64)\n",
    "\n",
    "    example = tf.train.Example(\n",
    "        features=tf.train.Features(\n",
    "            feature={\n",
    "                'image_raw': _bytes_feature(image_raw),\n",
    "                'label': _int64_feature(label)\n",
    "            }\n",
    "        ))\n",
    "    writer.write(example.SerializeToString())\n",
    "\n",
    "writer.close()"
   ]
  },
  {
   "cell_type": "code",
   "execution_count": null,
   "metadata": {},
   "outputs": [],
   "source": [
    "metadata = {\n",
    "    \"num_records\": cnt,\n",
    "    \"num_classes\": 1,\n",
    "    \"img_size\": 64\n",
    "}\n",
    "metadata_path = os.path.join(out_root, \"metadata.pickle\")\n",
    "with open(metadata_path, 'wb') as f:\n",
    "    pickle.dump(metadata, f)"
   ]
  }
 ],
 "metadata": {
  "kernelspec": {
   "display_name": "Python 3",
   "language": "python",
   "name": "python3"
  },
  "language_info": {
   "codemirror_mode": {
    "name": "ipython",
    "version": 3
   },
   "file_extension": ".py",
   "mimetype": "text/x-python",
   "name": "python",
   "nbconvert_exporter": "python",
   "pygments_lexer": "ipython3",
   "version": "3.6.7"
  }
 },
 "nbformat": 4,
 "nbformat_minor": 4
}
